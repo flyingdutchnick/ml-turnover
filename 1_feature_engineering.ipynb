{
 "cells": [
  {
   "cell_type": "code",
   "execution_count": 2,
   "metadata": {},
   "outputs": [],
   "source": [
    "# General imports\n",
    "\n",
    "import numpy as np\n",
    "import pandas as pd\n",
    "import gzip\n",
    "import os, sys, gc, warnings, random, datetime, math, awscli\n",
    "\n",
    "from sklearn import metrics\n",
    "from sklearn.model_selection import train_test_split, KFold,GroupShuffleSplit\n",
    "from sklearn.preprocessing import LabelEncoder\n",
    "\n",
    "import seaborn as sns\n",
    "import matplotlib.pyplot as plt\n",
    "\n",
    "warnings.filterwarnings('ignore')"
   ]
  },
  {
   "cell_type": "code",
   "execution_count": null,
   "metadata": {},
   "outputs": [],
   "source": [
    "# Helper functions\n",
    "\n"
   ]
  },
  {
   "cell_type": "code",
   "execution_count": 6,
   "metadata": {},
   "outputs": [],
   "source": [
    "# Run this once to download the CSV files to your local ./data/csv_files directory. \n",
    "# Make sure you have configured your AWS Credential File\n",
    "# Make sure you have a created a /data/cvs_files folder\n",
    "!aws s3 sync s3://sagemaker-us-east-1-936165954724/ml-turnover/ ./data/csv_files"
   ]
  },
  {
   "cell_type": "code",
   "execution_count": 82,
   "metadata": {},
   "outputs": [],
   "source": [
    "### LOAD FIRM-LEVEL SHARE PRICE DATA\n",
    "\n",
    "def load_performance_data():\n",
    "    \"\"\"\n",
    "    \n",
    "    Load a firm-level share price performance dataset\n",
    "    Return a DataFrame with price closing monthly (prccm)\n",
    "\n",
    "    Parameters\n",
    "    ----------\n",
    "    csv_path : str with location of csv file\n",
    "    s3 : bool, default False\n",
    "        Whether to use a csv file stored in an S3 location\n",
    "\n",
    "    Returns\n",
    "    -------\n",
    "    pandas.DataFrame:\n",
    "        MultiIndex:\n",
    "            gvkey, Integer, dtype: int64\n",
    "            date: Date, dtype: datetime64[M]\n",
    "        Columns:\n",
    "            company_name: String, dtype: string\n",
    "            prccm: Float, dtype: float64\n",
    "            industry_sic_code: Integer, dtype: int64\n",
    "            industry_naics_code: Integer, dtype: int64\n",
    "    \"\"\"\n",
    "    \n",
    "    csv_file = './data/csv_files/share_prices.csv.gz'\n",
    "    df = pd.read_csv(csv_file, compression='gzip')\n",
    "    df.datadate = pd.to_datetime(df.datadate, format=\"%Y%m%d\")\n",
    "    \n",
    "    return df\n",
    "\n",
    "df_share_prices = load_performance_data() "
   ]
  },
  {
   "cell_type": "code",
   "execution_count": 26,
   "metadata": {},
   "outputs": [],
   "source": [
    "### LOAD FIRM-LEVEL SHARE PRICE DATA\n",
    "\n",
    "def load_index_data():\n",
    "    \"\"\"\n",
    "    \n",
    "    Load a firm-level share price performance dataset\n",
    "    Return a DataFrame with price closing monthly (prccm)\n",
    "\n",
    "    Parameters\n",
    "    ----------\n",
    "    csv_path : str with location of csv file\n",
    "    s3 : bool, default False\n",
    "        Whether to use a csv file stored in an S3 location\n",
    "\n",
    "    Returns\n",
    "    -------\n",
    "    pandas.DataFrame:\n",
    "        MultiIndex:\n",
    "            gvkey, Integer, dtype: int64\n",
    "            date: Date, dtype: datetime64[M]\n",
    "        Columns:\n",
    "            company_name: String, dtype: string\n",
    "            prccm: Float, dtype: float64\n",
    "            industry_sic_code: Integer, dtype: int64\n",
    "            industry_naics_code: Integer, dtype: int64\n",
    "    \"\"\"\n",
    "    \n",
    "    csv_file = './data/csv_files/index_prices.csv.gz'\n",
    "    df = pd.read_csv(csv_file, compression='gzip')\n",
    "    df.datadate = pd.to_datetime(df.datadate, format=\"%Y%m%d\")\n",
    "    \n",
    "    return df\n",
    "\n",
    "df_index_prices = load_index_data() "
   ]
  },
  {
   "cell_type": "code",
   "execution_count": 27,
   "metadata": {},
   "outputs": [],
   "source": [
    "df_index = df_index_prices[df_index_prices[\"conm\"] == \"Russell 3000\"]"
   ]
  },
  {
   "cell_type": "code",
   "execution_count": 28,
   "metadata": {},
   "outputs": [],
   "source": [
    "# Drop all columsn with \"NA\" values\n",
    "\n",
    "df_index = df_index[[\"datadate\", \"prccm\"]].rename(columns={\"prccm\":\"price\"})"
   ]
  },
  {
   "cell_type": "code",
   "execution_count": 29,
   "metadata": {},
   "outputs": [],
   "source": [
    "def calculate_index_returns(df, periods=[1, 3, 12, 24, 36]):\n",
    "    \"\"\"\n",
    "    Return dataframe with monthly returns\n",
    "    \n",
    "    Parameters\n",
    "    ----------\n",
    "    df : pandas.DataFrame\n",
    "    periods : array of Integer\n",
    "        Integers to calculate percentage return, \n",
    "        i.e. 12 --> (t0 - t-12)/(t-12)\n",
    "\n",
    "    Returns\n",
    "    -------\n",
    "    pandas.DataFrame:\n",
    "        MultiIndex:\n",
    "            gvkey, Integer, dtype: int64\n",
    "            date: Date, dtype: datetime64[M]\n",
    "        Columns:\n",
    "            company_name: String, dtype: string\n",
    "            prccm: Float, dtype: float64\n",
    "            industry_sic_code: Integer, dtype: int64\n",
    "            industry_naics_code: Integer, dtype: int64\n",
    "            pct_change_{period_1}: Float, dtype: float64\n",
    "            pct_change_{period_x}: Float, dtype: float64\n",
    "    \"\"\"\n",
    "\n",
    "    for period in periods:\n",
    "        key_1 = 'return_' + str(period) + 'M'\n",
    "        key_2 = 'annualized_return_' + str(period) + 'M'\n",
    "        # use ffill method to deal with missing closing prices data\n",
    "        df[key_1] = df['price'].pct_change(fill_method='ffill', periods=period)\n",
    "        df[key_2] = ((df[key_1]+1)**(12/period)-1)\n",
    "    \n",
    "    return df\n",
    "\n",
    "df_index = calculate_index_returns(df_index)"
   ]
  },
  {
   "cell_type": "code",
   "execution_count": 56,
   "metadata": {},
   "outputs": [
    {
     "output_type": "stream",
     "name": "stdout",
     "text": "gvkey\nNAN row count = 0\n% NAN count = 0.00%\n\niid\nNAN row count = 0\n% NAN count = 0.00%\n\ndatadate\nNAN row count = 0\n% NAN count = 0.00%\n\ntic\nNAN row count = 533\n% NAN count = 0.01%\n\ncusip\nNAN row count = 0\n% NAN count = 0.00%\n\nconm\nNAN row count = 0\n% NAN count = 0.00%\n\najexm\nNAN row count = 37923\n% NAN count = 0.69%\n\najpm\nNAN row count = 37923\n% NAN count = 0.69%\n\nprccm\nNAN row count = 93009\n% NAN count = 1.70%\n\ntrfm\nNAN row count = 75471\n% NAN count = 1.38%\n\ncity\nNAN row count = 4327\n% NAN count = 0.08%\n\nnaics\nNAN row count = 117695\n% NAN count = 2.15%\n\nsic\nNAN row count = 4356\n% NAN count = 0.08%\n\nstate\nNAN row count = 547344\n% NAN count = 9.99%\n\n"
    }
   ],
   "source": [
    "def check_nans(df):\n",
    "    nans_df = df.isna()\n",
    "    nans_groups={}\n",
    "\n",
    "    for col in df.columns:\n",
    "        cur_group = nans_df[col].sum()\n",
    "        if cur_group >= 0:\n",
    "            print(f'{col}')\n",
    "            print(f'NAN row count = {cur_group}')\n",
    "            print(f'% NAN count = {df[col].isnull().mean()*100:.2f}%\\n')\n",
    "        \n",
    "    del nans_df; x=gc.collect()\n",
    "\n",
    "check_nans(df_share_prices)"
   ]
  },
  {
   "cell_type": "code",
   "execution_count": 54,
   "metadata": {},
   "outputs": [],
   "source": [
    "# Drop columns with more than 10% missing values\n",
    "df_share_prices = df_share_prices.loc[:, df_share_prices.isnull().mean() < .1]"
   ]
  },
  {
   "cell_type": "code",
   "execution_count": 107,
   "metadata": {},
   "outputs": [],
   "source": [
    "the_list = df_share_prices[df_share_prices['ajexm'] == 0][\"gvkey\"].unique()"
   ]
  },
  {
   "cell_type": "code",
   "execution_count": 112,
   "metadata": {},
   "outputs": [],
   "source": [
    "df_share_prices = df_share_prices[~df_share_prices[\"gvkey\"].isin(the_list)]"
   ]
  },
  {
   "cell_type": "code",
   "execution_count": 123,
   "metadata": {},
   "outputs": [],
   "source": [
    "# calculate the stock price adjusted for splits\n",
    "df_share_prices[\"price\"] = df_share_prices[\"prccm\"]/df_share_prices[\"ajexm\"] "
   ]
  },
  {
   "cell_type": "code",
   "execution_count": null,
   "metadata": {},
   "outputs": [],
   "source": [
    "# let's drop "
   ]
  },
  {
   "cell_type": "code",
   "execution_count": 152,
   "metadata": {},
   "outputs": [
    {
     "output_type": "execute_result",
     "data": {
      "text/plain": "          gvkey iid   datadate  tic      cusip                         conm  \\\n118074     2433  03 2001-05-31  NaN  055961403               BNS HOLDING CO   \n1152729   14236  01 2012-11-30  NaN  24099G932  MANSFIELD-MARTIN EN MG -OLD   \n1152730   14236  01 2012-12-31  NaN  24099G932  MANSFIELD-MARTIN EN MG -OLD   \n1152731   14236  01 2013-01-31  NaN  24099G932  MANSFIELD-MARTIN EN MG -OLD   \n1152732   14236  01 2013-02-28  NaN  24099G932  MANSFIELD-MARTIN EN MG -OLD   \n...         ...  ..        ...  ...        ...                          ...   \n5459493  277891  01 2019-12-31  NaN  G23474102              CONDOR GOLD PLC   \n5459494  277891  01 2020-01-31  NaN  G23474102              CONDOR GOLD PLC   \n5459495  277891  01 2020-02-29  NaN  G23474102              CONDOR GOLD PLC   \n5459496  277891  01 2020-03-31  NaN  G23474102              CONDOR GOLD PLC   \n5459497  277891  01 2020-04-30  NaN  G23474102              CONDOR GOLD PLC   \n\n         ajexm  ajpm  dvpspm  dvpsxm  ...     gsubind     naics     sic  \\\n118074     1.0   1.0   15.25   15.25  ...  20106020.0  336211.0  3713.0   \n1152729    1.0   1.0     NaN     NaN  ...  15104040.0  212221.0  1040.0   \n1152730    1.0   1.0     NaN     NaN  ...  15104040.0  212221.0  1040.0   \n1152731    1.0   1.0     NaN     NaN  ...  15104040.0  212221.0  1040.0   \n1152732    1.0   1.0     NaN     NaN  ...  15104040.0  212221.0  1040.0   \n...        ...   ...     ...     ...  ...         ...       ...     ...   \n5459493    1.0   1.0     NaN     NaN  ...  15104030.0  212221.0  1040.0   \n5459494    1.0   1.0     NaN     NaN  ...  15104030.0  212221.0  1040.0   \n5459495    1.0   1.0     NaN     NaN  ...  15104030.0  212221.0  1040.0   \n5459496    1.0   1.0     NaN     NaN  ...  15104030.0  212221.0  1040.0   \n5459497    1.0   1.0     NaN     NaN  ...  15104030.0  212221.0  1040.0   \n\n         state  price  return_period_1  return_period_3 return_period_12  \\\n118074      RI    NaN         0.000000         0.000000         0.000000   \n1152729     AZ  0.150              NaN              NaN              NaN   \n1152730     AZ  0.110        -0.266667              NaN              NaN   \n1152731     AZ  0.110         0.000000              NaN              NaN   \n1152732     AZ  0.200         0.818182         0.333333              NaN   \n...        ...    ...              ...              ...              ...   \n5459493    NaN  0.310         0.377778        -0.138889         0.033333   \n5459494    NaN  0.250        -0.193548         0.041667        -0.418605   \n5459495    NaN  0.320         0.280000         0.422222        -0.255814   \n5459496    NaN  0.355         0.109375         0.145161         0.221610   \n5459497    NaN  0.355         0.000000         0.420000         0.284370   \n\n         return_period_24  return_period_36  \n118074           0.393443          0.923077  \n1152729               NaN               NaN  \n1152730               NaN               NaN  \n1152731               NaN               NaN  \n1152732               NaN               NaN  \n...                   ...               ...  \n5459493         -0.578231               NaN  \n5459494         -0.659864               NaN  \n5459495         -0.466667               NaN  \n5459496         -0.556250               NaN  \n5459497         -0.529115               NaN  \n\n[533 rows x 31 columns]",
      "text/html": "<div>\n<style scoped>\n    .dataframe tbody tr th:only-of-type {\n        vertical-align: middle;\n    }\n\n    .dataframe tbody tr th {\n        vertical-align: top;\n    }\n\n    .dataframe thead th {\n        text-align: right;\n    }\n</style>\n<table border=\"1\" class=\"dataframe\">\n  <thead>\n    <tr style=\"text-align: right;\">\n      <th></th>\n      <th>gvkey</th>\n      <th>iid</th>\n      <th>datadate</th>\n      <th>tic</th>\n      <th>cusip</th>\n      <th>conm</th>\n      <th>ajexm</th>\n      <th>ajpm</th>\n      <th>dvpspm</th>\n      <th>dvpsxm</th>\n      <th>...</th>\n      <th>gsubind</th>\n      <th>naics</th>\n      <th>sic</th>\n      <th>state</th>\n      <th>price</th>\n      <th>return_period_1</th>\n      <th>return_period_3</th>\n      <th>return_period_12</th>\n      <th>return_period_24</th>\n      <th>return_period_36</th>\n    </tr>\n  </thead>\n  <tbody>\n    <tr>\n      <th>118074</th>\n      <td>2433</td>\n      <td>03</td>\n      <td>2001-05-31</td>\n      <td>NaN</td>\n      <td>055961403</td>\n      <td>BNS HOLDING CO</td>\n      <td>1.0</td>\n      <td>1.0</td>\n      <td>15.25</td>\n      <td>15.25</td>\n      <td>...</td>\n      <td>20106020.0</td>\n      <td>336211.0</td>\n      <td>3713.0</td>\n      <td>RI</td>\n      <td>NaN</td>\n      <td>0.000000</td>\n      <td>0.000000</td>\n      <td>0.000000</td>\n      <td>0.393443</td>\n      <td>0.923077</td>\n    </tr>\n    <tr>\n      <th>1152729</th>\n      <td>14236</td>\n      <td>01</td>\n      <td>2012-11-30</td>\n      <td>NaN</td>\n      <td>24099G932</td>\n      <td>MANSFIELD-MARTIN EN MG -OLD</td>\n      <td>1.0</td>\n      <td>1.0</td>\n      <td>NaN</td>\n      <td>NaN</td>\n      <td>...</td>\n      <td>15104040.0</td>\n      <td>212221.0</td>\n      <td>1040.0</td>\n      <td>AZ</td>\n      <td>0.150</td>\n      <td>NaN</td>\n      <td>NaN</td>\n      <td>NaN</td>\n      <td>NaN</td>\n      <td>NaN</td>\n    </tr>\n    <tr>\n      <th>1152730</th>\n      <td>14236</td>\n      <td>01</td>\n      <td>2012-12-31</td>\n      <td>NaN</td>\n      <td>24099G932</td>\n      <td>MANSFIELD-MARTIN EN MG -OLD</td>\n      <td>1.0</td>\n      <td>1.0</td>\n      <td>NaN</td>\n      <td>NaN</td>\n      <td>...</td>\n      <td>15104040.0</td>\n      <td>212221.0</td>\n      <td>1040.0</td>\n      <td>AZ</td>\n      <td>0.110</td>\n      <td>-0.266667</td>\n      <td>NaN</td>\n      <td>NaN</td>\n      <td>NaN</td>\n      <td>NaN</td>\n    </tr>\n    <tr>\n      <th>1152731</th>\n      <td>14236</td>\n      <td>01</td>\n      <td>2013-01-31</td>\n      <td>NaN</td>\n      <td>24099G932</td>\n      <td>MANSFIELD-MARTIN EN MG -OLD</td>\n      <td>1.0</td>\n      <td>1.0</td>\n      <td>NaN</td>\n      <td>NaN</td>\n      <td>...</td>\n      <td>15104040.0</td>\n      <td>212221.0</td>\n      <td>1040.0</td>\n      <td>AZ</td>\n      <td>0.110</td>\n      <td>0.000000</td>\n      <td>NaN</td>\n      <td>NaN</td>\n      <td>NaN</td>\n      <td>NaN</td>\n    </tr>\n    <tr>\n      <th>1152732</th>\n      <td>14236</td>\n      <td>01</td>\n      <td>2013-02-28</td>\n      <td>NaN</td>\n      <td>24099G932</td>\n      <td>MANSFIELD-MARTIN EN MG -OLD</td>\n      <td>1.0</td>\n      <td>1.0</td>\n      <td>NaN</td>\n      <td>NaN</td>\n      <td>...</td>\n      <td>15104040.0</td>\n      <td>212221.0</td>\n      <td>1040.0</td>\n      <td>AZ</td>\n      <td>0.200</td>\n      <td>0.818182</td>\n      <td>0.333333</td>\n      <td>NaN</td>\n      <td>NaN</td>\n      <td>NaN</td>\n    </tr>\n    <tr>\n      <th>...</th>\n      <td>...</td>\n      <td>...</td>\n      <td>...</td>\n      <td>...</td>\n      <td>...</td>\n      <td>...</td>\n      <td>...</td>\n      <td>...</td>\n      <td>...</td>\n      <td>...</td>\n      <td>...</td>\n      <td>...</td>\n      <td>...</td>\n      <td>...</td>\n      <td>...</td>\n      <td>...</td>\n      <td>...</td>\n      <td>...</td>\n      <td>...</td>\n      <td>...</td>\n      <td>...</td>\n    </tr>\n    <tr>\n      <th>5459493</th>\n      <td>277891</td>\n      <td>01</td>\n      <td>2019-12-31</td>\n      <td>NaN</td>\n      <td>G23474102</td>\n      <td>CONDOR GOLD PLC</td>\n      <td>1.0</td>\n      <td>1.0</td>\n      <td>NaN</td>\n      <td>NaN</td>\n      <td>...</td>\n      <td>15104030.0</td>\n      <td>212221.0</td>\n      <td>1040.0</td>\n      <td>NaN</td>\n      <td>0.310</td>\n      <td>0.377778</td>\n      <td>-0.138889</td>\n      <td>0.033333</td>\n      <td>-0.578231</td>\n      <td>NaN</td>\n    </tr>\n    <tr>\n      <th>5459494</th>\n      <td>277891</td>\n      <td>01</td>\n      <td>2020-01-31</td>\n      <td>NaN</td>\n      <td>G23474102</td>\n      <td>CONDOR GOLD PLC</td>\n      <td>1.0</td>\n      <td>1.0</td>\n      <td>NaN</td>\n      <td>NaN</td>\n      <td>...</td>\n      <td>15104030.0</td>\n      <td>212221.0</td>\n      <td>1040.0</td>\n      <td>NaN</td>\n      <td>0.250</td>\n      <td>-0.193548</td>\n      <td>0.041667</td>\n      <td>-0.418605</td>\n      <td>-0.659864</td>\n      <td>NaN</td>\n    </tr>\n    <tr>\n      <th>5459495</th>\n      <td>277891</td>\n      <td>01</td>\n      <td>2020-02-29</td>\n      <td>NaN</td>\n      <td>G23474102</td>\n      <td>CONDOR GOLD PLC</td>\n      <td>1.0</td>\n      <td>1.0</td>\n      <td>NaN</td>\n      <td>NaN</td>\n      <td>...</td>\n      <td>15104030.0</td>\n      <td>212221.0</td>\n      <td>1040.0</td>\n      <td>NaN</td>\n      <td>0.320</td>\n      <td>0.280000</td>\n      <td>0.422222</td>\n      <td>-0.255814</td>\n      <td>-0.466667</td>\n      <td>NaN</td>\n    </tr>\n    <tr>\n      <th>5459496</th>\n      <td>277891</td>\n      <td>01</td>\n      <td>2020-03-31</td>\n      <td>NaN</td>\n      <td>G23474102</td>\n      <td>CONDOR GOLD PLC</td>\n      <td>1.0</td>\n      <td>1.0</td>\n      <td>NaN</td>\n      <td>NaN</td>\n      <td>...</td>\n      <td>15104030.0</td>\n      <td>212221.0</td>\n      <td>1040.0</td>\n      <td>NaN</td>\n      <td>0.355</td>\n      <td>0.109375</td>\n      <td>0.145161</td>\n      <td>0.221610</td>\n      <td>-0.556250</td>\n      <td>NaN</td>\n    </tr>\n    <tr>\n      <th>5459497</th>\n      <td>277891</td>\n      <td>01</td>\n      <td>2020-04-30</td>\n      <td>NaN</td>\n      <td>G23474102</td>\n      <td>CONDOR GOLD PLC</td>\n      <td>1.0</td>\n      <td>1.0</td>\n      <td>NaN</td>\n      <td>NaN</td>\n      <td>...</td>\n      <td>15104030.0</td>\n      <td>212221.0</td>\n      <td>1040.0</td>\n      <td>NaN</td>\n      <td>0.355</td>\n      <td>0.000000</td>\n      <td>0.420000</td>\n      <td>0.284370</td>\n      <td>-0.529115</td>\n      <td>NaN</td>\n    </tr>\n  </tbody>\n</table>\n<p>533 rows × 31 columns</p>\n</div>"
     },
     "metadata": {},
     "execution_count": 152
    }
   ],
   "source": [
    "# df_share_prices[df_share_prices[\"return_period_36\"] == np.inf]\n",
    "df_share_prices[df_share_prices[\"tic\"].na()][\"\"]\n",
    "# df_share_prices.columns\n",
    "# df_share_prices[df_share_prices[\"tick\"] == 2662][350:389][[\"tic\", \"gvkey\", \"datadate\", \"conm\", \"ajexm\", \"prccm\", \"price\"]]"
   ]
  },
  {
   "cell_type": "code",
   "execution_count": null,
   "metadata": {},
   "outputs": [],
   "source": [
    "sns.distplot(df_share_prices[\"return_period_36\"], kde=False, bins=100)"
   ]
  },
  {
   "cell_type": "code",
   "execution_count": null,
   "metadata": {},
   "outputs": [],
   "source": [
    "# Drop rows with no SIC codes"
   ]
  },
  {
   "cell_type": "code",
   "execution_count": 126,
   "metadata": {},
   "outputs": [],
   "source": [
    "def calculate_returns(df, periods=[1, 3, 12, 24, 36]):\n",
    "    \"\"\"\n",
    "    Return dataframe with monthly returns\n",
    "    \n",
    "    Parameters\n",
    "    ----------\n",
    "    df : pandas.DataFrame\n",
    "    periods : array of Integer\n",
    "        Integers to calculate percentage return, \n",
    "        i.e. 12 --> (t0 - t-12)/(t-12)\n",
    "\n",
    "    Returns\n",
    "    -------\n",
    "    pandas.DataFrame:\n",
    "        MultiIndex:\n",
    "            gvkey, Integer, dtype: int64\n",
    "            date: Date, dtype: datetime64[M]\n",
    "        Columns:\n",
    "            company_name: String, dtype: string\n",
    "            prccm: Float, dtype: float64\n",
    "            industry_sic_code: Integer, dtype: int64\n",
    "            industry_naics_code: Integer, dtype: int64\n",
    "            pct_change_{period_1}: Float, dtype: float64\n",
    "            pct_change_{period_x}: Float, dtype: float64\n",
    "    \"\"\"\n",
    "\n",
    "    for period in periods:\n",
    "        key_name = 'return_period_' + str(period)\n",
    "        # use ffill method to deal with missing closing prices data\n",
    "        df[key_name] = df.groupby('gvkey')['price'].pct_change(fill_method='ffill', periods=period)\n",
    "\n",
    "    return df\n",
    "\n",
    "df_share_prices = calculate_returns(df_share_prices)"
   ]
  },
  {
   "cell_type": "code",
   "execution_count": null,
   "metadata": {},
   "outputs": [],
   "source": []
  },
  {
   "cell_type": "code",
   "execution_count": null,
   "metadata": {},
   "outputs": [],
   "source": [
    "# \"EXPERT-LEVEL\" TO-DO ;-) Optional for Ozzi\n",
    "def industry_returns(df):\n",
    "    \"\"\"\n",
    "    Calculate industry returns for each period\n",
    "    Group df by industry, calculate mean pct_change, done.\n",
    "    \n",
    "    Parameters\n",
    "    ----------\n",
    "    df : pandas.DataFrame\n",
    "\n",
    "    Returns\n",
    "    -------\n",
    "    df: pandas.DataFrame\n",
    "        Columns:\n",
    "        ...\n",
    "        pct_change_{period_1}_industry: Float, dtype: float64\n",
    "        pct_change_{period_x}_industry: Float, dtype: float64\n",
    "\n",
    "    \"\"\"\n",
    "    \n",
    "    df['return_period_1_industry_avg'] = df.groupby(['sic', 'date', 'return_period_1']).mean()\n",
    "    return df"
   ]
  },
  {
   "cell_type": "code",
   "execution_count": 37,
   "metadata": {},
   "outputs": [],
   "source": [
    "df_share_prices[:100]"
   ]
  },
  {
   "cell_type": "code",
   "execution_count": 47,
   "metadata": {},
   "outputs": [
    {
     "output_type": "error",
     "ename": "ValueError",
     "evalue": "Length mismatch: Expected axis has 5474991 elements, new values have 5479056 elements",
     "traceback": [
      "\u001b[0;31m---------------------------------------------------------------------------\u001b[0m",
      "\u001b[0;31mValueError\u001b[0m                                Traceback (most recent call last)",
      "\u001b[0;32m<ipython-input-47-1adb7471b083>\u001b[0m in \u001b[0;36m<module>\u001b[0;34m\u001b[0m\n\u001b[0;32m----> 1\u001b[0;31m \u001b[0mpd\u001b[0m\u001b[0;34m.\u001b[0m\u001b[0misnull\u001b[0m\u001b[0;34m(\u001b[0m\u001b[0mdf_share_prices\u001b[0m\u001b[0;34m.\u001b[0m\u001b[0mgroupby\u001b[0m\u001b[0;34m(\u001b[0m\u001b[0;34m[\u001b[0m\u001b[0;34m'sic'\u001b[0m\u001b[0;34m,\u001b[0m \u001b[0;34m'datadate'\u001b[0m\u001b[0;34m]\u001b[0m\u001b[0;34m)\u001b[0m\u001b[0;34m[\u001b[0m\u001b[0;34m'return_period_1'\u001b[0m\u001b[0;34m]\u001b[0m\u001b[0;34m.\u001b[0m\u001b[0mtransform\u001b[0m\u001b[0;34m(\u001b[0m\u001b[0mpd\u001b[0m\u001b[0;34m.\u001b[0m\u001b[0mSeries\u001b[0m\u001b[0;34m.\u001b[0m\u001b[0mmean\u001b[0m\u001b[0;34m)\u001b[0m\u001b[0;34m)\u001b[0m\u001b[0;34m\u001b[0m\u001b[0;34m\u001b[0m\u001b[0m\n\u001b[0m",
      "\u001b[0;32m~/.local/share/virtualenvs/ml-turnover-Eu2gJtc4/lib/python3.7/site-packages/pandas/core/groupby/generic.py\u001b[0m in \u001b[0;36mtransform\u001b[0;34m(self, func, *args, **kwargs)\u001b[0m\n\u001b[1;32m    463\u001b[0m \u001b[0;34m\u001b[0m\u001b[0m\n\u001b[1;32m    464\u001b[0m         \u001b[0;32mif\u001b[0m \u001b[0;32mnot\u001b[0m \u001b[0misinstance\u001b[0m\u001b[0;34m(\u001b[0m\u001b[0mfunc\u001b[0m\u001b[0;34m,\u001b[0m \u001b[0mstr\u001b[0m\u001b[0;34m)\u001b[0m\u001b[0;34m:\u001b[0m\u001b[0;34m\u001b[0m\u001b[0;34m\u001b[0m\u001b[0m\n\u001b[0;32m--> 465\u001b[0;31m             \u001b[0;32mreturn\u001b[0m \u001b[0mself\u001b[0m\u001b[0;34m.\u001b[0m\u001b[0m_transform_general\u001b[0m\u001b[0;34m(\u001b[0m\u001b[0mfunc\u001b[0m\u001b[0;34m,\u001b[0m \u001b[0;34m*\u001b[0m\u001b[0margs\u001b[0m\u001b[0;34m,\u001b[0m \u001b[0;34m**\u001b[0m\u001b[0mkwargs\u001b[0m\u001b[0;34m)\u001b[0m\u001b[0;34m\u001b[0m\u001b[0;34m\u001b[0m\u001b[0m\n\u001b[0m\u001b[1;32m    466\u001b[0m \u001b[0;34m\u001b[0m\u001b[0m\n\u001b[1;32m    467\u001b[0m         \u001b[0;32melif\u001b[0m \u001b[0mfunc\u001b[0m \u001b[0;32mnot\u001b[0m \u001b[0;32min\u001b[0m \u001b[0mbase\u001b[0m\u001b[0;34m.\u001b[0m\u001b[0mtransform_kernel_whitelist\u001b[0m\u001b[0;34m:\u001b[0m\u001b[0;34m\u001b[0m\u001b[0;34m\u001b[0m\u001b[0m\n",
      "\u001b[0;32m~/.local/share/virtualenvs/ml-turnover-Eu2gJtc4/lib/python3.7/site-packages/pandas/core/groupby/generic.py\u001b[0m in \u001b[0;36m_transform_general\u001b[0;34m(self, func, *args, **kwargs)\u001b[0m\n\u001b[1;32m    512\u001b[0m \u001b[0;34m\u001b[0m\u001b[0m\n\u001b[1;32m    513\u001b[0m         \u001b[0mresult\u001b[0m\u001b[0;34m.\u001b[0m\u001b[0mname\u001b[0m \u001b[0;34m=\u001b[0m \u001b[0mself\u001b[0m\u001b[0;34m.\u001b[0m\u001b[0m_selected_obj\u001b[0m\u001b[0;34m.\u001b[0m\u001b[0mname\u001b[0m\u001b[0;34m\u001b[0m\u001b[0;34m\u001b[0m\u001b[0m\n\u001b[0;32m--> 514\u001b[0;31m         \u001b[0mresult\u001b[0m\u001b[0;34m.\u001b[0m\u001b[0mindex\u001b[0m \u001b[0;34m=\u001b[0m \u001b[0mself\u001b[0m\u001b[0;34m.\u001b[0m\u001b[0m_selected_obj\u001b[0m\u001b[0;34m.\u001b[0m\u001b[0mindex\u001b[0m\u001b[0;34m\u001b[0m\u001b[0;34m\u001b[0m\u001b[0m\n\u001b[0m\u001b[1;32m    515\u001b[0m         \u001b[0;32mreturn\u001b[0m \u001b[0mresult\u001b[0m\u001b[0;34m\u001b[0m\u001b[0;34m\u001b[0m\u001b[0m\n\u001b[1;32m    516\u001b[0m \u001b[0;34m\u001b[0m\u001b[0m\n",
      "\u001b[0;32m~/.local/share/virtualenvs/ml-turnover-Eu2gJtc4/lib/python3.7/site-packages/pandas/core/generic.py\u001b[0m in \u001b[0;36m__setattr__\u001b[0;34m(self, name, value)\u001b[0m\n\u001b[1;32m   5285\u001b[0m         \u001b[0;32mtry\u001b[0m\u001b[0;34m:\u001b[0m\u001b[0;34m\u001b[0m\u001b[0;34m\u001b[0m\u001b[0m\n\u001b[1;32m   5286\u001b[0m             \u001b[0mobject\u001b[0m\u001b[0;34m.\u001b[0m\u001b[0m__getattribute__\u001b[0m\u001b[0;34m(\u001b[0m\u001b[0mself\u001b[0m\u001b[0;34m,\u001b[0m \u001b[0mname\u001b[0m\u001b[0;34m)\u001b[0m\u001b[0;34m\u001b[0m\u001b[0;34m\u001b[0m\u001b[0m\n\u001b[0;32m-> 5287\u001b[0;31m             \u001b[0;32mreturn\u001b[0m \u001b[0mobject\u001b[0m\u001b[0;34m.\u001b[0m\u001b[0m__setattr__\u001b[0m\u001b[0;34m(\u001b[0m\u001b[0mself\u001b[0m\u001b[0;34m,\u001b[0m \u001b[0mname\u001b[0m\u001b[0;34m,\u001b[0m \u001b[0mvalue\u001b[0m\u001b[0;34m)\u001b[0m\u001b[0;34m\u001b[0m\u001b[0;34m\u001b[0m\u001b[0m\n\u001b[0m\u001b[1;32m   5288\u001b[0m         \u001b[0;32mexcept\u001b[0m \u001b[0mAttributeError\u001b[0m\u001b[0;34m:\u001b[0m\u001b[0;34m\u001b[0m\u001b[0;34m\u001b[0m\u001b[0m\n\u001b[1;32m   5289\u001b[0m             \u001b[0;32mpass\u001b[0m\u001b[0;34m\u001b[0m\u001b[0;34m\u001b[0m\u001b[0m\n",
      "\u001b[0;32mpandas/_libs/properties.pyx\u001b[0m in \u001b[0;36mpandas._libs.properties.AxisProperty.__set__\u001b[0;34m()\u001b[0m\n",
      "\u001b[0;32m~/.local/share/virtualenvs/ml-turnover-Eu2gJtc4/lib/python3.7/site-packages/pandas/core/series.py\u001b[0m in \u001b[0;36m_set_axis\u001b[0;34m(self, axis, labels, fastpath)\u001b[0m\n\u001b[1;32m    399\u001b[0m         \u001b[0mobject\u001b[0m\u001b[0;34m.\u001b[0m\u001b[0m__setattr__\u001b[0m\u001b[0;34m(\u001b[0m\u001b[0mself\u001b[0m\u001b[0;34m,\u001b[0m \u001b[0;34m\"_index\"\u001b[0m\u001b[0;34m,\u001b[0m \u001b[0mlabels\u001b[0m\u001b[0;34m)\u001b[0m\u001b[0;34m\u001b[0m\u001b[0;34m\u001b[0m\u001b[0m\n\u001b[1;32m    400\u001b[0m         \u001b[0;32mif\u001b[0m \u001b[0;32mnot\u001b[0m \u001b[0mfastpath\u001b[0m\u001b[0;34m:\u001b[0m\u001b[0;34m\u001b[0m\u001b[0;34m\u001b[0m\u001b[0m\n\u001b[0;32m--> 401\u001b[0;31m             \u001b[0mself\u001b[0m\u001b[0;34m.\u001b[0m\u001b[0m_data\u001b[0m\u001b[0;34m.\u001b[0m\u001b[0mset_axis\u001b[0m\u001b[0;34m(\u001b[0m\u001b[0maxis\u001b[0m\u001b[0;34m,\u001b[0m \u001b[0mlabels\u001b[0m\u001b[0;34m)\u001b[0m\u001b[0;34m\u001b[0m\u001b[0;34m\u001b[0m\u001b[0m\n\u001b[0m\u001b[1;32m    402\u001b[0m \u001b[0;34m\u001b[0m\u001b[0m\n\u001b[1;32m    403\u001b[0m     \u001b[0;32mdef\u001b[0m \u001b[0m_set_subtyp\u001b[0m\u001b[0;34m(\u001b[0m\u001b[0mself\u001b[0m\u001b[0;34m,\u001b[0m \u001b[0mis_all_dates\u001b[0m\u001b[0;34m)\u001b[0m\u001b[0;34m:\u001b[0m\u001b[0;34m\u001b[0m\u001b[0;34m\u001b[0m\u001b[0m\n",
      "\u001b[0;32m~/.local/share/virtualenvs/ml-turnover-Eu2gJtc4/lib/python3.7/site-packages/pandas/core/internals/managers.py\u001b[0m in \u001b[0;36mset_axis\u001b[0;34m(self, axis, new_labels)\u001b[0m\n\u001b[1;32m    176\u001b[0m         \u001b[0;32mif\u001b[0m \u001b[0mnew_len\u001b[0m \u001b[0;34m!=\u001b[0m \u001b[0mold_len\u001b[0m\u001b[0;34m:\u001b[0m\u001b[0;34m\u001b[0m\u001b[0;34m\u001b[0m\u001b[0m\n\u001b[1;32m    177\u001b[0m             raise ValueError(\n\u001b[0;32m--> 178\u001b[0;31m                 \u001b[0;34mf\"Length mismatch: Expected axis has {old_len} elements, new \"\u001b[0m\u001b[0;34m\u001b[0m\u001b[0;34m\u001b[0m\u001b[0m\n\u001b[0m\u001b[1;32m    179\u001b[0m                 \u001b[0;34mf\"values have {new_len} elements\"\u001b[0m\u001b[0;34m\u001b[0m\u001b[0;34m\u001b[0m\u001b[0m\n\u001b[1;32m    180\u001b[0m             )\n",
      "\u001b[0;31mValueError\u001b[0m: Length mismatch: Expected axis has 5474991 elements, new values have 5479056 elements"
     ]
    }
   ],
   "source": [
    "df_share_prices.groupby(['sic', 'datadate'])"
   ]
  },
  {
   "cell_type": "code",
   "execution_count": 47,
   "metadata": {},
   "outputs": [],
   "source": [
    "########################### TO-DO NICO: DIRECTOR DATA\n",
    "#################################################################################\n",
    "\n",
    "\n",
    "def load_director_data():\n",
    "    csv_file = './data/csv_files/boardex_director_profiles.csv.gz'\n",
    "    df = pd.read_csv(csv_file, compression='gzip', encoding='latin1')\n",
    "    # df.datadate = pd.to_datetime(df.datadate, format=\"%Y%m%d\")\n",
    "\n",
    "    return df\n",
    "\n",
    "df_directors = load_director_data()\n"
   ]
  },
  {
   "cell_type": "code",
   "execution_count": 68,
   "metadata": {},
   "outputs": [],
   "source": [
    "# Drop the unidentfiable names\n",
    "df_directors = df_directors.iloc[140:, :]"
   ]
  },
  {
   "cell_type": "code",
   "execution_count": 73,
   "metadata": {},
   "outputs": [],
   "source": [
    "\n",
    "def load_director_age():\n",
    "    \"\"\" Load csv file containing director ages\n",
    "    \n",
    "    Args: \n",
    "        input_data: csv file in S3 location\n",
    "\n",
    "    Returns: \n",
    "        dataframe with each row corresponding to a single role\n",
    "    \"\"\"\n",
    "    csv_file = './data/csv_files/boardex_director_age_nationality.csv'\n",
    "    df = pd.read_csv(csv_file, encoding='latin1')\n",
    "    # df.datadate = pd.to_datetime(df.datadate, format=\"%Y%m%d\")\n",
    "    return df\n",
    "\n",
    "df_ages = load_director_age()\n"
   ]
  },
  {
   "cell_type": "code",
   "execution_count": 75,
   "metadata": {},
   "outputs": [
    {
     "output_type": "execute_result",
     "data": {
      "text/plain": "        DirectorName_x             CompanyName BrdPosition  \\\n0             A Abedin          AIR LEASE CORP          No   \n1             A Abedin          AIR LEASE CORP          No   \n2             A Abedin          AIR LEASE CORP          No   \n3             A Abedin          AIR LEASE CORP          No   \n4             A Abedin     CURTISS-WRIGHT CORP          No   \n...                ...                     ...         ...   \n5840798    Ümit Suba\u001a\u001a  SC Johnson Europe Sàrl          No   \n5840799    Ümit Suba\u001a\u001a         SC Johnson GmbH          No   \n5840800    Ümit Suba\u001a\u001a         SC Johnson GmbH          No   \n5840801    Ümit Suba\u001a\u001a         SC Johnson GmbH          No   \n5840802    Ümit Suba\u001a\u001a         SC Johnson GmbH          No   \n\n                       RoleName NED  DirectorID  CompanyID DateStartRole  \\\n0        Assistant VP/Treasurer  No     1723369    1698818      20160101   \n1           Director - Treasury  No     1723369    1698818      20130801   \n2                     Executive  No     1723369    1698818      20180501   \n3                     Treasurer  No     1723369    1698818      20151201   \n4           Electrical Engineer  No     1723369       8446      20060601   \n...                         ...  ..         ...        ...           ...   \n5840798       Regional Director  No     1094972    1677139      20091201   \n5840799       Business Director  No     1094972    1677131      19970901   \n5840800                     CEO  No     1094972    1677131      20081201   \n5840801         General Manager  No     1094972    1677131      20000701   \n5840802   Group General Manager  No     1094972    1677131      20040701   \n\n        DateEndRole  HOCountryName               Sector  OrgType  \\\n0          20180501  United States            Transport   Quoted   \n1          20151201  United States            Transport   Quoted   \n2                 C  United States            Transport   Quoted   \n3          20160101  United States            Transport   Quoted   \n4          20100601  United States  Aerospace & Defence   Quoted   \n...             ...            ...                  ...      ...   \n5840798    20101201    Switzerland                  NaN  Private   \n5840799    20000601        Germany                  NaN  Private   \n5840800    20090901        Germany                  NaN  Private   \n5840801    20040601        Germany                  NaN  Private   \n5840802    20080601        Germany                  NaN  Private   \n\n                 ISIN DirectorName_y   DOB Gender Nationality  NetworkSize  \n0        US00912X3026       A Abedin  n.a.      M         NaN       1282.0  \n1        US00912X3026       A Abedin  n.a.      M         NaN       1282.0  \n2        US00912X3026       A Abedin  n.a.      M         NaN       1282.0  \n3        US00912X3026       A Abedin  n.a.      M         NaN       1282.0  \n4        US2315611010       A Abedin  n.a.      M         NaN       1282.0  \n...               ...            ...   ...    ...         ...          ...  \n5840798           NaN    Ümit Suba\u001a\u001a  1967      M     Turkish        624.0  \n5840799           NaN    Ümit Suba\u001a\u001a  1967      M     Turkish        624.0  \n5840800           NaN    Ümit Suba\u001a\u001a  1967      M     Turkish        624.0  \n5840801           NaN    Ümit Suba\u001a\u001a  1967      M     Turkish        624.0  \n5840802           NaN    Ümit Suba\u001a\u001a  1967      M     Turkish        624.0  \n\n[5840803 rows x 18 columns]",
      "text/html": "<div>\n<style scoped>\n    .dataframe tbody tr th:only-of-type {\n        vertical-align: middle;\n    }\n\n    .dataframe tbody tr th {\n        vertical-align: top;\n    }\n\n    .dataframe thead th {\n        text-align: right;\n    }\n</style>\n<table border=\"1\" class=\"dataframe\">\n  <thead>\n    <tr style=\"text-align: right;\">\n      <th></th>\n      <th>DirectorName_x</th>\n      <th>CompanyName</th>\n      <th>BrdPosition</th>\n      <th>RoleName</th>\n      <th>NED</th>\n      <th>DirectorID</th>\n      <th>CompanyID</th>\n      <th>DateStartRole</th>\n      <th>DateEndRole</th>\n      <th>HOCountryName</th>\n      <th>Sector</th>\n      <th>OrgType</th>\n      <th>ISIN</th>\n      <th>DirectorName_y</th>\n      <th>DOB</th>\n      <th>Gender</th>\n      <th>Nationality</th>\n      <th>NetworkSize</th>\n    </tr>\n  </thead>\n  <tbody>\n    <tr>\n      <th>0</th>\n      <td>A Abedin</td>\n      <td>AIR LEASE CORP</td>\n      <td>No</td>\n      <td>Assistant VP/Treasurer</td>\n      <td>No</td>\n      <td>1723369</td>\n      <td>1698818</td>\n      <td>20160101</td>\n      <td>20180501</td>\n      <td>United States</td>\n      <td>Transport</td>\n      <td>Quoted</td>\n      <td>US00912X3026</td>\n      <td>A Abedin</td>\n      <td>n.a.</td>\n      <td>M</td>\n      <td>NaN</td>\n      <td>1282.0</td>\n    </tr>\n    <tr>\n      <th>1</th>\n      <td>A Abedin</td>\n      <td>AIR LEASE CORP</td>\n      <td>No</td>\n      <td>Director - Treasury</td>\n      <td>No</td>\n      <td>1723369</td>\n      <td>1698818</td>\n      <td>20130801</td>\n      <td>20151201</td>\n      <td>United States</td>\n      <td>Transport</td>\n      <td>Quoted</td>\n      <td>US00912X3026</td>\n      <td>A Abedin</td>\n      <td>n.a.</td>\n      <td>M</td>\n      <td>NaN</td>\n      <td>1282.0</td>\n    </tr>\n    <tr>\n      <th>2</th>\n      <td>A Abedin</td>\n      <td>AIR LEASE CORP</td>\n      <td>No</td>\n      <td>Executive</td>\n      <td>No</td>\n      <td>1723369</td>\n      <td>1698818</td>\n      <td>20180501</td>\n      <td>C</td>\n      <td>United States</td>\n      <td>Transport</td>\n      <td>Quoted</td>\n      <td>US00912X3026</td>\n      <td>A Abedin</td>\n      <td>n.a.</td>\n      <td>M</td>\n      <td>NaN</td>\n      <td>1282.0</td>\n    </tr>\n    <tr>\n      <th>3</th>\n      <td>A Abedin</td>\n      <td>AIR LEASE CORP</td>\n      <td>No</td>\n      <td>Treasurer</td>\n      <td>No</td>\n      <td>1723369</td>\n      <td>1698818</td>\n      <td>20151201</td>\n      <td>20160101</td>\n      <td>United States</td>\n      <td>Transport</td>\n      <td>Quoted</td>\n      <td>US00912X3026</td>\n      <td>A Abedin</td>\n      <td>n.a.</td>\n      <td>M</td>\n      <td>NaN</td>\n      <td>1282.0</td>\n    </tr>\n    <tr>\n      <th>4</th>\n      <td>A Abedin</td>\n      <td>CURTISS-WRIGHT CORP</td>\n      <td>No</td>\n      <td>Electrical Engineer</td>\n      <td>No</td>\n      <td>1723369</td>\n      <td>8446</td>\n      <td>20060601</td>\n      <td>20100601</td>\n      <td>United States</td>\n      <td>Aerospace &amp; Defence</td>\n      <td>Quoted</td>\n      <td>US2315611010</td>\n      <td>A Abedin</td>\n      <td>n.a.</td>\n      <td>M</td>\n      <td>NaN</td>\n      <td>1282.0</td>\n    </tr>\n    <tr>\n      <th>...</th>\n      <td>...</td>\n      <td>...</td>\n      <td>...</td>\n      <td>...</td>\n      <td>...</td>\n      <td>...</td>\n      <td>...</td>\n      <td>...</td>\n      <td>...</td>\n      <td>...</td>\n      <td>...</td>\n      <td>...</td>\n      <td>...</td>\n      <td>...</td>\n      <td>...</td>\n      <td>...</td>\n      <td>...</td>\n      <td>...</td>\n    </tr>\n    <tr>\n      <th>5840798</th>\n      <td>Ümit Suba\u001a\u001a</td>\n      <td>SC Johnson Europe Sàrl</td>\n      <td>No</td>\n      <td>Regional Director</td>\n      <td>No</td>\n      <td>1094972</td>\n      <td>1677139</td>\n      <td>20091201</td>\n      <td>20101201</td>\n      <td>Switzerland</td>\n      <td>NaN</td>\n      <td>Private</td>\n      <td>NaN</td>\n      <td>Ümit Suba\u001a\u001a</td>\n      <td>1967</td>\n      <td>M</td>\n      <td>Turkish</td>\n      <td>624.0</td>\n    </tr>\n    <tr>\n      <th>5840799</th>\n      <td>Ümit Suba\u001a\u001a</td>\n      <td>SC Johnson GmbH</td>\n      <td>No</td>\n      <td>Business Director</td>\n      <td>No</td>\n      <td>1094972</td>\n      <td>1677131</td>\n      <td>19970901</td>\n      <td>20000601</td>\n      <td>Germany</td>\n      <td>NaN</td>\n      <td>Private</td>\n      <td>NaN</td>\n      <td>Ümit Suba\u001a\u001a</td>\n      <td>1967</td>\n      <td>M</td>\n      <td>Turkish</td>\n      <td>624.0</td>\n    </tr>\n    <tr>\n      <th>5840800</th>\n      <td>Ümit Suba\u001a\u001a</td>\n      <td>SC Johnson GmbH</td>\n      <td>No</td>\n      <td>CEO</td>\n      <td>No</td>\n      <td>1094972</td>\n      <td>1677131</td>\n      <td>20081201</td>\n      <td>20090901</td>\n      <td>Germany</td>\n      <td>NaN</td>\n      <td>Private</td>\n      <td>NaN</td>\n      <td>Ümit Suba\u001a\u001a</td>\n      <td>1967</td>\n      <td>M</td>\n      <td>Turkish</td>\n      <td>624.0</td>\n    </tr>\n    <tr>\n      <th>5840801</th>\n      <td>Ümit Suba\u001a\u001a</td>\n      <td>SC Johnson GmbH</td>\n      <td>No</td>\n      <td>General Manager</td>\n      <td>No</td>\n      <td>1094972</td>\n      <td>1677131</td>\n      <td>20000701</td>\n      <td>20040601</td>\n      <td>Germany</td>\n      <td>NaN</td>\n      <td>Private</td>\n      <td>NaN</td>\n      <td>Ümit Suba\u001a\u001a</td>\n      <td>1967</td>\n      <td>M</td>\n      <td>Turkish</td>\n      <td>624.0</td>\n    </tr>\n    <tr>\n      <th>5840802</th>\n      <td>Ümit Suba\u001a\u001a</td>\n      <td>SC Johnson GmbH</td>\n      <td>No</td>\n      <td>Group General Manager</td>\n      <td>No</td>\n      <td>1094972</td>\n      <td>1677131</td>\n      <td>20040701</td>\n      <td>20080601</td>\n      <td>Germany</td>\n      <td>NaN</td>\n      <td>Private</td>\n      <td>NaN</td>\n      <td>Ümit Suba\u001a\u001a</td>\n      <td>1967</td>\n      <td>M</td>\n      <td>Turkish</td>\n      <td>624.0</td>\n    </tr>\n  </tbody>\n</table>\n<p>5840803 rows × 18 columns</p>\n</div>"
     },
     "metadata": {},
     "execution_count": 75
    }
   ],
   "source": [
    "df_directors = df_directors.merge(df_ages, on='DirectorID', how='left')\n"
   ]
  },
  {
   "cell_type": "code",
   "execution_count": 107,
   "metadata": {},
   "outputs": [
    {
     "output_type": "execute_result",
     "data": {
      "text/plain": "                DirectorName  \\\n1698818 1723369     A Abedin   \n        1723369     A Abedin   \n        1723369     A Abedin   \n        1723369     A Abedin   \n8446    1723369     A Abedin   \n...                      ...   \n15995   22951         A Ames   \n420450  22951         A Ames   \n49567   22951         A Ames   \n2397178 22951         A Ames   \n49568   22951         A Ames   \n\n                                                      CompanyName BrdPosition  \\\n1698818 1723369                                    AIR LEASE CORP          No   \n        1723369                                    AIR LEASE CORP          No   \n        1723369                                    AIR LEASE CORP          No   \n        1723369                                    AIR LEASE CORP          No   \n8446    1723369                               CURTISS-WRIGHT CORP          No   \n...                                                           ...         ...   \n15995   22951                                   INFOWAVE SOFTWARE         Yes   \n420450  22951                       IPASS INC (De-listed 02/2019)         Yes   \n49567   22951                                      Imandi.com Inc         Yes   \n2397178 22951    MMGL Corp (Formerly known as Schnitzer West LLC)         Yes   \n49568   22951                          MediaOne International Inc         Yes   \n\n                               RoleName  NED  DirectorID  CompanyID  \\\n1698818 1723369  Assistant VP/Treasurer   No     1723369    1698818   \n        1723369     Director - Treasury   No     1723369    1698818   \n        1723369               Executive   No     1723369    1698818   \n        1723369               Treasurer   No     1723369    1698818   \n8446    1723369     Electrical Engineer   No     1723369       8446   \n...                                 ...  ...         ...        ...   \n15995   22951      Independent Director  Yes       22951      15995   \n420450  22951      Independent Director  Yes       22951     420450   \n49567   22951             Director - SD  Yes       22951      49567   \n2397178 22951             Director - SD  Yes       22951    2397178   \n49568   22951             President/CEO   No       22951      49568   \n\n                DateStartRole DateEndRole             HOCountryName  \\\n1698818 1723369      20160101    20180501             United States   \n        1723369      20130801    20151201             United States   \n        1723369      20180501           C             United States   \n        1723369      20151201    20160101             United States   \n8446    1723369      20060601    20100601             United States   \n...                       ...         ...                       ...   \n15995   22951        20001101    20020101                    Canada   \n420450  22951        20020701    20100630             United States   \n49567   22951        20000301           N             United States   \n2397178 22951               N           C             United States   \n49568   22951        19950701    20000601  United Kingdom - England   \n\n                                     Sector  OrgType          ISIN  \n1698818 1723369                   Transport   Quoted  US00912X3026  \n        1723369                   Transport   Quoted  US00912X3026  \n        1723369                   Transport   Quoted  US00912X3026  \n        1723369                   Transport   Quoted  US00912X3026  \n8446    1723369         Aerospace & Defence   Quoted  US2315611010  \n...                                     ...      ...           ...  \n15995   22951                           NaN   Quoted           NaN  \n420450  22951    Telecommunication Services   Quoted  US46261V1089  \n49567   22951                           NaN  Private           NaN  \n2397178 22951                           NaN  Private           NaN  \n49568   22951                           NaN  Private           NaN  \n\n[100 rows x 13 columns]",
      "text/html": "<div>\n<style scoped>\n    .dataframe tbody tr th:only-of-type {\n        vertical-align: middle;\n    }\n\n    .dataframe tbody tr th {\n        vertical-align: top;\n    }\n\n    .dataframe thead th {\n        text-align: right;\n    }\n</style>\n<table border=\"1\" class=\"dataframe\">\n  <thead>\n    <tr style=\"text-align: right;\">\n      <th></th>\n      <th></th>\n      <th>DirectorName</th>\n      <th>CompanyName</th>\n      <th>BrdPosition</th>\n      <th>RoleName</th>\n      <th>NED</th>\n      <th>DirectorID</th>\n      <th>CompanyID</th>\n      <th>DateStartRole</th>\n      <th>DateEndRole</th>\n      <th>HOCountryName</th>\n      <th>Sector</th>\n      <th>OrgType</th>\n      <th>ISIN</th>\n    </tr>\n  </thead>\n  <tbody>\n    <tr>\n      <th rowspan=\"4\" valign=\"top\">1698818</th>\n      <th>1723369</th>\n      <td>A Abedin</td>\n      <td>AIR LEASE CORP</td>\n      <td>No</td>\n      <td>Assistant VP/Treasurer</td>\n      <td>No</td>\n      <td>1723369</td>\n      <td>1698818</td>\n      <td>20160101</td>\n      <td>20180501</td>\n      <td>United States</td>\n      <td>Transport</td>\n      <td>Quoted</td>\n      <td>US00912X3026</td>\n    </tr>\n    <tr>\n      <th>1723369</th>\n      <td>A Abedin</td>\n      <td>AIR LEASE CORP</td>\n      <td>No</td>\n      <td>Director - Treasury</td>\n      <td>No</td>\n      <td>1723369</td>\n      <td>1698818</td>\n      <td>20130801</td>\n      <td>20151201</td>\n      <td>United States</td>\n      <td>Transport</td>\n      <td>Quoted</td>\n      <td>US00912X3026</td>\n    </tr>\n    <tr>\n      <th>1723369</th>\n      <td>A Abedin</td>\n      <td>AIR LEASE CORP</td>\n      <td>No</td>\n      <td>Executive</td>\n      <td>No</td>\n      <td>1723369</td>\n      <td>1698818</td>\n      <td>20180501</td>\n      <td>C</td>\n      <td>United States</td>\n      <td>Transport</td>\n      <td>Quoted</td>\n      <td>US00912X3026</td>\n    </tr>\n    <tr>\n      <th>1723369</th>\n      <td>A Abedin</td>\n      <td>AIR LEASE CORP</td>\n      <td>No</td>\n      <td>Treasurer</td>\n      <td>No</td>\n      <td>1723369</td>\n      <td>1698818</td>\n      <td>20151201</td>\n      <td>20160101</td>\n      <td>United States</td>\n      <td>Transport</td>\n      <td>Quoted</td>\n      <td>US00912X3026</td>\n    </tr>\n    <tr>\n      <th>8446</th>\n      <th>1723369</th>\n      <td>A Abedin</td>\n      <td>CURTISS-WRIGHT CORP</td>\n      <td>No</td>\n      <td>Electrical Engineer</td>\n      <td>No</td>\n      <td>1723369</td>\n      <td>8446</td>\n      <td>20060601</td>\n      <td>20100601</td>\n      <td>United States</td>\n      <td>Aerospace &amp; Defence</td>\n      <td>Quoted</td>\n      <td>US2315611010</td>\n    </tr>\n    <tr>\n      <th>...</th>\n      <th>...</th>\n      <td>...</td>\n      <td>...</td>\n      <td>...</td>\n      <td>...</td>\n      <td>...</td>\n      <td>...</td>\n      <td>...</td>\n      <td>...</td>\n      <td>...</td>\n      <td>...</td>\n      <td>...</td>\n      <td>...</td>\n      <td>...</td>\n    </tr>\n    <tr>\n      <th>15995</th>\n      <th>22951</th>\n      <td>A Ames</td>\n      <td>INFOWAVE SOFTWARE</td>\n      <td>Yes</td>\n      <td>Independent Director</td>\n      <td>Yes</td>\n      <td>22951</td>\n      <td>15995</td>\n      <td>20001101</td>\n      <td>20020101</td>\n      <td>Canada</td>\n      <td>NaN</td>\n      <td>Quoted</td>\n      <td>NaN</td>\n    </tr>\n    <tr>\n      <th>420450</th>\n      <th>22951</th>\n      <td>A Ames</td>\n      <td>IPASS INC (De-listed 02/2019)</td>\n      <td>Yes</td>\n      <td>Independent Director</td>\n      <td>Yes</td>\n      <td>22951</td>\n      <td>420450</td>\n      <td>20020701</td>\n      <td>20100630</td>\n      <td>United States</td>\n      <td>Telecommunication Services</td>\n      <td>Quoted</td>\n      <td>US46261V1089</td>\n    </tr>\n    <tr>\n      <th>49567</th>\n      <th>22951</th>\n      <td>A Ames</td>\n      <td>Imandi.com Inc</td>\n      <td>Yes</td>\n      <td>Director - SD</td>\n      <td>Yes</td>\n      <td>22951</td>\n      <td>49567</td>\n      <td>20000301</td>\n      <td>N</td>\n      <td>United States</td>\n      <td>NaN</td>\n      <td>Private</td>\n      <td>NaN</td>\n    </tr>\n    <tr>\n      <th>2397178</th>\n      <th>22951</th>\n      <td>A Ames</td>\n      <td>MMGL Corp (Formerly known as Schnitzer West LLC)</td>\n      <td>Yes</td>\n      <td>Director - SD</td>\n      <td>Yes</td>\n      <td>22951</td>\n      <td>2397178</td>\n      <td>N</td>\n      <td>C</td>\n      <td>United States</td>\n      <td>NaN</td>\n      <td>Private</td>\n      <td>NaN</td>\n    </tr>\n    <tr>\n      <th>49568</th>\n      <th>22951</th>\n      <td>A Ames</td>\n      <td>MediaOne International Inc</td>\n      <td>Yes</td>\n      <td>President/CEO</td>\n      <td>No</td>\n      <td>22951</td>\n      <td>49568</td>\n      <td>19950701</td>\n      <td>20000601</td>\n      <td>United Kingdom - England</td>\n      <td>NaN</td>\n      <td>Private</td>\n      <td>NaN</td>\n    </tr>\n  </tbody>\n</table>\n<p>100 rows × 13 columns</p>\n</div>"
     },
     "metadata": {},
     "execution_count": 107
    }
   ],
   "source": [
    "df_small = df_directors[:100]\n",
    "df_small.index = pd.MultiIndex.from_arrays(df_small[[\"CompanyID\", \"DirectorID\"]].values.T)\n",
    "# df_small[\"hash\"] = str(df_small[\"DirectorID\"])+' ' +str(df_small[\"CompanyID\"])\n",
    "# df_small\n",
    "# pd.util.hash_pandas_object(df_small[CompanyID]\n",
    "df_small"
   ]
  },
  {
   "cell_type": "code",
   "execution_count": 106,
   "metadata": {},
   "outputs": [
    {
     "output_type": "stream",
     "name": "stdout",
     "text": "Number of rows before processing: 100\n"
    },
    {
     "output_type": "error",
     "ename": "AttributeError",
     "evalue": "'DataFrame' object has no attribute 'DOB'",
     "traceback": [
      "\u001b[0;31m---------------------------------------------------------------------------\u001b[0m",
      "\u001b[0;31mAttributeError\u001b[0m                            Traceback (most recent call last)",
      "\u001b[0;32m<ipython-input-106-b5050724353f>\u001b[0m in \u001b[0;36m<module>\u001b[0;34m\u001b[0m\n\u001b[1;32m     18\u001b[0m     \u001b[0;32mreturn\u001b[0m \u001b[0mdf\u001b[0m\u001b[0;34m\u001b[0m\u001b[0;34m\u001b[0m\u001b[0m\n\u001b[1;32m     19\u001b[0m \u001b[0;34m\u001b[0m\u001b[0m\n\u001b[0;32m---> 20\u001b[0;31m \u001b[0mdf_small\u001b[0m \u001b[0;34m=\u001b[0m \u001b[0mdate_conversion\u001b[0m\u001b[0;34m(\u001b[0m\u001b[0mdf_small\u001b[0m\u001b[0;34m)\u001b[0m\u001b[0;34m\u001b[0m\u001b[0;34m\u001b[0m\u001b[0m\n\u001b[0m",
      "\u001b[0;32m<ipython-input-106-b5050724353f>\u001b[0m in \u001b[0;36mdate_conversion\u001b[0;34m(df)\u001b[0m\n\u001b[1;32m      1\u001b[0m \u001b[0;32mdef\u001b[0m \u001b[0mdate_conversion\u001b[0m\u001b[0;34m(\u001b[0m\u001b[0mdf\u001b[0m\u001b[0;34m)\u001b[0m\u001b[0;34m:\u001b[0m\u001b[0;34m\u001b[0m\u001b[0;34m\u001b[0m\u001b[0m\n\u001b[1;32m      2\u001b[0m     \u001b[0mprint\u001b[0m\u001b[0;34m(\u001b[0m\u001b[0;34mf\"Number of rows before processing: {df.shape[0]}\"\u001b[0m\u001b[0;34m)\u001b[0m\u001b[0;34m\u001b[0m\u001b[0;34m\u001b[0m\u001b[0m\n\u001b[0;32m----> 3\u001b[0;31m     \u001b[0mdf\u001b[0m\u001b[0;34m.\u001b[0m\u001b[0mDOB\u001b[0m \u001b[0;34m=\u001b[0m \u001b[0;34m[\u001b[0m\u001b[0mnp\u001b[0m\u001b[0;34m.\u001b[0m\u001b[0mnan\u001b[0m \u001b[0;32mif\u001b[0m \u001b[0;34m(\u001b[0m\u001b[0mval\u001b[0m \u001b[0;34m==\u001b[0m \u001b[0;34m'NaN'\u001b[0m\u001b[0;34m)\u001b[0m \u001b[0;34m|\u001b[0m \u001b[0;34m(\u001b[0m\u001b[0mval\u001b[0m \u001b[0;34m==\u001b[0m \u001b[0;34m'n.a.'\u001b[0m\u001b[0;34m)\u001b[0m \u001b[0;32melse\u001b[0m \u001b[0mval\u001b[0m \u001b[0;32mfor\u001b[0m \u001b[0mval\u001b[0m \u001b[0;32min\u001b[0m \u001b[0mdf\u001b[0m\u001b[0;34m.\u001b[0m\u001b[0mDOB\u001b[0m\u001b[0;34m]\u001b[0m\u001b[0;34m\u001b[0m\u001b[0;34m\u001b[0m\u001b[0m\n\u001b[0m\u001b[1;32m      4\u001b[0m     \u001b[0mdf\u001b[0m\u001b[0;34m.\u001b[0m\u001b[0mdropna\u001b[0m\u001b[0;34m(\u001b[0m\u001b[0minplace\u001b[0m\u001b[0;34m=\u001b[0m\u001b[0;32mTrue\u001b[0m\u001b[0;34m)\u001b[0m\u001b[0;34m\u001b[0m\u001b[0;34m\u001b[0m\u001b[0m\n\u001b[1;32m      5\u001b[0m \u001b[0;34m\u001b[0m\u001b[0m\n",
      "\u001b[0;32m~/.local/share/virtualenvs/ml-turnover-Eu2gJtc4/lib/python3.7/site-packages/pandas/core/generic.py\u001b[0m in \u001b[0;36m__getattr__\u001b[0;34m(self, name)\u001b[0m\n\u001b[1;32m   5272\u001b[0m             \u001b[0;32mif\u001b[0m \u001b[0mself\u001b[0m\u001b[0;34m.\u001b[0m\u001b[0m_info_axis\u001b[0m\u001b[0;34m.\u001b[0m\u001b[0m_can_hold_identifiers_and_holds_name\u001b[0m\u001b[0;34m(\u001b[0m\u001b[0mname\u001b[0m\u001b[0;34m)\u001b[0m\u001b[0;34m:\u001b[0m\u001b[0;34m\u001b[0m\u001b[0;34m\u001b[0m\u001b[0m\n\u001b[1;32m   5273\u001b[0m                 \u001b[0;32mreturn\u001b[0m \u001b[0mself\u001b[0m\u001b[0;34m[\u001b[0m\u001b[0mname\u001b[0m\u001b[0;34m]\u001b[0m\u001b[0;34m\u001b[0m\u001b[0;34m\u001b[0m\u001b[0m\n\u001b[0;32m-> 5274\u001b[0;31m             \u001b[0;32mreturn\u001b[0m \u001b[0mobject\u001b[0m\u001b[0;34m.\u001b[0m\u001b[0m__getattribute__\u001b[0m\u001b[0;34m(\u001b[0m\u001b[0mself\u001b[0m\u001b[0;34m,\u001b[0m \u001b[0mname\u001b[0m\u001b[0;34m)\u001b[0m\u001b[0;34m\u001b[0m\u001b[0;34m\u001b[0m\u001b[0m\n\u001b[0m\u001b[1;32m   5275\u001b[0m \u001b[0;34m\u001b[0m\u001b[0m\n\u001b[1;32m   5276\u001b[0m     \u001b[0;32mdef\u001b[0m \u001b[0m__setattr__\u001b[0m\u001b[0;34m(\u001b[0m\u001b[0mself\u001b[0m\u001b[0;34m,\u001b[0m \u001b[0mname\u001b[0m\u001b[0;34m:\u001b[0m \u001b[0mstr\u001b[0m\u001b[0;34m,\u001b[0m \u001b[0mvalue\u001b[0m\u001b[0;34m)\u001b[0m \u001b[0;34m->\u001b[0m \u001b[0;32mNone\u001b[0m\u001b[0;34m:\u001b[0m\u001b[0;34m\u001b[0m\u001b[0;34m\u001b[0m\u001b[0m\n",
      "\u001b[0;31mAttributeError\u001b[0m: 'DataFrame' object has no attribute 'DOB'"
     ]
    }
   ],
   "source": [
    "def date_conversion(df):\n",
    "    print(f\"Number of rows before processing: {df.shape[0]}\")\n",
    "    df[\"DOB\"] = [np.nan if (val == 'NaN') | (val == 'n.a.') else val for val in df.DOB]\n",
    "    df.dropna(inplace=True)\n",
    "\n",
    "    regex = r\"(?P<DAY>\\d{2})?[/\\s-]?(?P<MONTH>[a-zA-Z]{3})?[/\\s-]?(?P<YEAR>\\d{4})$\"\n",
    "    df = df.join(df[\"DOB\"].str.extract(regex))\n",
    "\n",
    "    df[\"DAY\"].fillna(\"01\", inplace=True)\n",
    "    df[\"MONTH\"].fillna(\"Jan\", inplace=True)\n",
    "\n",
    "    df[\"DOB\"] = df[\"YEAR\"] + \"-\" + df[\"MONTH\"] + \"-\" + df[\"DAY\"]\n",
    "    df[\"DOB\"] = pd.to_datetime(df[\"DOB\"], format=\"%Y-%b-%d\")\n",
    "\n",
    "    # df.drop([\"YEAR\", \"MONTH\", \"DAY\"], axis=1, inplace=True)\n",
    "    print(f\"Number of rows after dropping NAs: {df.shape[0]}\")\n",
    "\n",
    "    return df\n",
    "\n",
    "df_small = date_conversion(df_small)"
   ]
  },
  {
   "cell_type": "code",
   "execution_count": null,
   "metadata": {},
   "outputs": [],
   "source": [
    "# Drop the entries that are missing StartDate or EndDate\n",
    "df.drop(df[df[\"DateEndRole\"] == \"N\"].index, inplace=True)\n",
    "df.drop(df[df[\"DateStartRole\"] == \"N\"].index, inplace=True)"
   ]
  },
  {
   "cell_type": "code",
   "execution_count": null,
   "metadata": {},
   "outputs": [],
   "source": [
    "# Create a RoleId to be used later\n",
    "df['RoleId'] = df.index.values.tolist()# Create a RoleId to be used later\n",
    "df['RoleId'] = df.index.values.tolist()"
   ]
  },
  {
   "cell_type": "code",
   "execution_count": null,
   "metadata": {},
   "outputs": [],
   "source": [
    "# Convert \"C\" DateEndRole to the Maximum End Date in the dataset\n",
    "MaxDate = np.unique(df[\"DateEndRole\"])[-2]\n",
    "df.loc[df[\"DateEndRole\"] == \"C\",\"DateEndRole\"] = MaxDate"
   ]
  },
  {
   "cell_type": "code",
   "execution_count": null,
   "metadata": {},
   "outputs": [],
   "source": [
    "# Create a column to indicate directors who remain in their roles\n",
    "df[\"CurrentRole\"] = False\n",
    "df.loc[df[\"DateEndRole\"] == \"C\",\"CurrentRole\"] = True"
   ]
  },
  {
   "cell_type": "code",
   "execution_count": null,
   "metadata": {},
   "outputs": [],
   "source": [
    "# Covert start and end date to datetime format\n",
    "df[\"DateStartRole\"] = df[\"DateStartRole\"].astype(np.datetime64)\n",
    "df[\"DateEndRole\"] = df[\"DateEndRole\"].astype(np.datetime64)"
   ]
  },
  {
   "cell_type": "code",
   "execution_count": null,
   "metadata": {},
   "outputs": [],
   "source": [
    "# Calculate the role duration. Note that we cannot use this directly, because that is what we're trying to predict.\n",
    "# But this is a known and usable value once a role has ended. If there is a trend, it may continue.\n",
    "df['RoleDuration'] = df['DateEndRole']-df['DateStartRole']"
   ]
  },
  {
   "cell_type": "code",
   "execution_count": null,
   "metadata": {},
   "outputs": [],
   "source": [
    "# https://www.kaggle.com/cdeotte/xgb-fraud-with-magic-0-9600#Feature-Engineeringhttps://www.kaggle.com/cdeotte/xgb-fraud-with-magic-0-9600#Feature-Engineering"
   ]
  },
  {
   "cell_type": "code",
   "execution_count": null,
   "metadata": {},
   "outputs": [],
   "source": [
    "\n",
    "def expand_rows(df):\n",
    "    \"\"\"\n",
    "    Expand the dataframe to have a single row\n",
    "    correspond to one month\n",
    "    \"\"\"\n",
    "    df['RoleId'] = df.index.values.tolist()\n",
    "\n",
    "    df.drop(df[df[\"DateEndRole\"] == \"N\"].index, inplace=True)\n",
    "    df.drop(df[df[\"DateStartRole\"] == \"N\"].index, inplace=True)\n",
    "\n",
    "    MaxDate = np.unique(df[\"DateEndRole\"])[-2]\n",
    "    length = df[df[\"DateEndRole\"] == \"C\"].shape[0]\n",
    "    print(f'Latest date in the dataset applied to {length} rows: {MaxDate}')\n",
    "    df.loc[df[\"DateEndRole\"] == \"C\",\"DateEndRole\"] = MaxDate\n",
    "    \n",
    "    df[\"DateStartRole\"] = df[\"DateStartRole\"].astype(np.datetime64)\n",
    "    df[\"DateEndRole\"] = df[\"DateEndRole\"].astype(np.datetime64)\n",
    "    \n",
    "    df = df.melt(id_vars=['RoleId', 'CompanyId', 'DirectorId', 'DirectorName', 'CompanyName', 'RoleName', 'Seniority'],value_name='Date',var_name='DateType')\n",
    "    df = df.drop_duplicates(subset=['RoleId', 'Date'], keep=False)\n",
    "    \n",
    "    df = df.groupby('RoleId').apply(lambda x: x.set_index('Date').resample('M').pad())\n",
    "\n",
    "    df = df.droplevel(level=0, axis=0)\n",
    "    df.reset_index(inplace=True)\n",
    "\n",
    "    return df"
   ]
  },
  {
   "cell_type": "code",
   "execution_count": 7,
   "metadata": {},
   "outputs": [
    {
     "output_type": "execute_result",
     "data": {
      "text/plain": "True"
     },
     "metadata": {},
     "execution_count": 7
    }
   ],
   "source": [
    "\n",
    "np.timedelta64(12, \"M\") <= np.timedelta64(1, \"Y\") "
   ]
  },
  {
   "cell_type": "code",
   "execution_count": null,
   "metadata": {},
   "outputs": [],
   "source": [
    "# Create a response variable set to TRUE if there is a turnover event within the next 12 months\n",
    "df[\"time_left\"] = df[\"DateEndRole\"] - df[\"Date\"] \n",
    "df[\"Turnover\"] = [True if tenure > np.timedelta64(1, \"Y\") else False for tenure in df['time_left']]\n",
    "df[(df.time_left <= np.timedelta64(11, \"M\")) & (df.current_role == True)]"
   ]
  },
  {
   "cell_type": "code",
   "execution_count": null,
   "metadata": {},
   "outputs": [],
   "source": [
    "# We shift the role duration so that it is only at the end of the role that we start counting past roles\n",
    "df1['PreviousRoleDuration'] = df1.groupby(['RoleId'])['RoleDuration'].shift(1)\n",
    "df1.loc[pd.isnull(df1['PreviousRoleDuration']), 'PreviousRoleDuration'] = np.timedelta64(0, \"D\")"
   ]
  },
  {
   "cell_type": "code",
   "execution_count": null,
   "metadata": {},
   "outputs": [],
   "source": [
    "#  We need to sort values again based on Director, Date, before we sum previous role duration to derive career length and company tenure\n",
    "df1.sort_values(['DirectorId', 'Date'], inplace = True)\n",
    "df1['CareerLength'] = df1.groupby('DirectorId')['PreviousRoleDuration'].transform(pd.Series.cumsum)\n",
    "df1['CompanyTenure'] = df1.groupby(['DirectorId', 'CompanyId'])['PreviousRoleDuration'].transform(pd.Series.cumsum)"
   ]
  },
  {
   "cell_type": "code",
   "execution_count": null,
   "metadata": {},
   "outputs": [],
   "source": [
    "# We create a PastRolesIncrementer as well as an ActiveRolesIncrementer to be used to tally the sum of past and active roles\n",
    "df1['PastRolesIncrementer'] = [0 if DateType == 'DateStartRole' else 1 for DateType in df1['DateType']]\n",
    "df1['ActiveRolesIncrementer'] = [1 if val == 'DateStartRole' else -1 for val in df1['DateType']]"
   ]
  },
  {
   "cell_type": "code",
   "execution_count": null,
   "metadata": {},
   "outputs": [],
   "source": [
    "# Calculate the number of previous roles career-wide\n",
    "df1.sort_values(['DirectorId', 'Date', 'DateType'], ascending=[True,True,False], inplace = True)\n",
    "df1['PastRoles'] = df1.groupby(['DirectorId'])['PastRolesIncrementer'].transform(pd.Series.cumsum)"
   ]
  },
  {
   "cell_type": "code",
   "execution_count": null,
   "metadata": {},
   "outputs": [],
   "source": [
    "# Calculate NetActiveRolesIncrementer which aggregates all role changes in a given month into a single value\n",
    "df1['NetActiveRolesIncrementer'] = df1.groupby(['DirectorId', 'Date'])['ActiveRolesIncrementer'].transform('sum')"
   ]
  },
  {
   "cell_type": "code",
   "execution_count": null,
   "metadata": {},
   "outputs": [],
   "source": [
    "# Set dummy variable equal to true if role is a CEO role\n",
    "df1['CEO'] = [True if \"CEO\" in RoleName else False for RoleName in df1['RoleName']]"
   ]
  },
  {
   "cell_type": "code",
   "execution_count": null,
   "metadata": {},
   "outputs": [],
   "source": [
    "# Drop duplicates where the Start Date equals the End Date \n",
    "df2 = df1.drop_duplicates(subset=['RoleId', 'Date'], keep=False)\n",
    "# df2.drop_duplicates(subset=['DirectorId', 'Date'], keep=False, inplace=True)\n",
    "\n",
    "# Resampling to create, for each role, a separate row for each month in the date range\n",
    "df2 = df2.groupby('RoleId').apply(lambda x: x.set_index('Date').resample('M').pad())"
   ]
  },
  {
   "cell_type": "code",
   "execution_count": null,
   "metadata": {},
   "outputs": [],
   "source": [
    "# Calculate role tenure for CEOs\n",
    "df3 = df2[df2.CEO]\n",
    "df3.drop_duplicates(subset=['CompanyId', 'DirectorId', 'CEO', 'Date'], keep=False, inplace=True)\n",
    "df3['RoleTenure'] = df3.groupby('RoleId')['RoleId'].cumcount()"
   ]
  },
  {
   "cell_type": "code",
   "execution_count": null,
   "metadata": {},
   "outputs": [],
   "source": [
    "# Count the tenure in months\n",
    "df2.sort_values(['DirectorId', 'RoleId'], ascending=[True,True], inplace = True)\n",
    "df2['RoleTenure'] = df2.groupby(['RoleId']).transform(Pd.Series.cumcount)"
   ]
  },
  {
   "cell_type": "code",
   "execution_count": null,
   "metadata": {},
   "outputs": [],
   "source": [
    "df1_CEO = df1[df1.CEO]\n",
    "# df1_CEO.drop_duplicates(subset=['CompanyId', 'DirectorId', 'Date'])\n",
    "df1_CEO.drop_duplicates(subset=['CompanyId', 'DirectorId', 'CEO', 'Date'], keep=False, inplace=True)\n",
    "\n",
    "# Calculate ActiveRoles. ATTENTION: do this only after removing duplicate dates or you risk double counting\n",
    "df1['ActiveRoles'] = df1.groupby(['DirectorId'])['NetActiveRolesIncrementer'].transform(pd.Series.cumsum)\n",
    "\n",
    "df1_CEO.sort_values(['CompanyName', 'Date'], inplace = True)\n",
    "df1_CEO['PreviousCEORoleDuration'] = df1_CEO.groupby(['CompanyName'])['RoleDuration'].shift(2)"
   ]
  },
  {
   "cell_type": "code",
   "execution_count": null,
   "metadata": {},
   "outputs": [],
   "source": [
    "def partition_df(dict, n):\n",
    "\n",
    "    if (n == 1):\n",
    "        return dict\n",
    "\n",
    "    else: \n",
    "        p = sum(dict.values())/2\n",
    "        _sum = 0\n",
    "        _dict = {}\n",
    "\n",
    "        while _sum < p:\n",
    "            removed_item = dict.popitem()\n",
    "            _dict[removed_item[0]] = removed_item[1]\n",
    "            _sum += removed_item[1]\n",
    "            \n",
    "        return (partition_df(_dict, n/2), partition_df(dict, n/2))\n",
    "\n",
    "keyz = partition_df(randd, 4)\n"
   ]
  },
  {
   "cell_type": "code",
   "execution_count": null,
   "metadata": {},
   "outputs": [],
   "source": [
    "from multiprocessing import Pool\n",
    "\n",
    "def parallelize_dataframe(df, func, n_cores=8):\n",
    "    df_split = np.array_split(df, n_cores)\n",
    "    pool = Pool(n_cores)\n",
    "    df = pd.concat(pool.map(func, df_split))\n",
    "    pool.close()\n",
    "    pool.join()\n",
    "    return df\n",
    "\n",
    "def add_tenure_cols(df):\n",
    "    df[\"OneYearTenure\"] = [1 if tenure > np.timedelta64(1, \"Y\") else 0 for tenure in df['RoleTenure']]\n",
    "    return df\n",
    "\n",
    "%time\n",
    "df04 = parallelize_dataframe(df03, add_tenure_cols)"
   ]
  }
 ],
 "metadata": {
  "language_info": {
   "codemirror_mode": {
    "name": "ipython",
    "version": 3
   },
   "file_extension": ".py",
   "mimetype": "text/x-python",
   "name": "python",
   "nbconvert_exporter": "python",
   "pygments_lexer": "ipython3",
   "version": "3.7.7-final"
  },
  "orig_nbformat": 2,
  "kernelspec": {
   "name": "python37764bitmlturnovervenvc063555a201c4c1785c4dfc0338511ad",
   "display_name": "Python 3.7.7 64-bit ('ml-turnover': venv)"
  }
 },
 "nbformat": 4,
 "nbformat_minor": 2
}